{
 "cells": [
  {
   "cell_type": "markdown",
   "id": "55671870",
   "metadata": {},
   "source": [
    "# NumPy Notes"
   ]
  },
  {
   "cell_type": "code",
   "execution_count": null,
   "id": "be128b0e",
   "metadata": {},
   "outputs": [],
   "source": [
    "## NumPy is a python library used for working with arrays. NumPy is short for Numerical Python. \n",
    "# --> It also has functions of working in domain of linear algebra, fourier transform and matrices"
   ]
  },
  {
   "cell_type": "code",
   "execution_count": null,
   "id": "27c39732",
   "metadata": {},
   "outputs": [],
   "source": [
    "# Why use NumPy?\n",
    "# The lists in python are sloe to process, NumPy provides an array 50 times faster\n",
    "\n",
    "'''The array object in python is called ndarray'''\n",
    "\n",
    "# Why NumPy is faster than lists?\n",
    "# --> NumPy arrays are stored at one continuous location in memory, so processes can access \n",
    "#     and manipulate them effeciently. It is also optimized to work with latest CPU architectures.\n",
    "\n",
    "# Continuous memory location behaviour is called as locality of reference.\n",
    "\n",
    "# Which language python is written in?\n",
    "# --> Partially in python, but most of the parts that require faster computation are written in C or C++."
   ]
  },
  {
   "cell_type": "code",
   "execution_count": 3,
   "id": "3ae979b9",
   "metadata": {},
   "outputs": [
    {
     "data": {
      "text/plain": [
       "array([1, 2, 3, 4, 5, 6])"
      ]
     },
     "execution_count": 3,
     "metadata": {},
     "output_type": "execute_result"
    }
   ],
   "source": [
    "import numpy\n",
    "\n",
    "arr = numpy.array([1,2,3,4,5,6])\n",
    "\n",
    "arr"
   ]
  },
  {
   "cell_type": "code",
   "execution_count": 2,
   "id": "ad528426",
   "metadata": {},
   "outputs": [
    {
     "data": {
      "text/plain": [
       "array([1, 2, 3, 4, 5, 6])"
      ]
     },
     "execution_count": 2,
     "metadata": {},
     "output_type": "execute_result"
    }
   ],
   "source": [
    "# NumPy is always imported under np alias\n",
    "\n",
    "import numpy as np\n",
    "\n",
    "arr = np.array([1,2,3,4,5,6])  # using np instead of numpy\n",
    "\n",
    "arr"
   ]
  },
  {
   "cell_type": "code",
   "execution_count": 3,
   "id": "aee6fd5a",
   "metadata": {},
   "outputs": [
    {
     "data": {
      "text/plain": [
       "'1.24.3'"
      ]
     },
     "execution_count": 3,
     "metadata": {},
     "output_type": "execute_result"
    }
   ],
   "source": [
    "np.__version__    # check version of numpy installed in your device"
   ]
  },
  {
   "cell_type": "code",
   "execution_count": 4,
   "id": "842078df",
   "metadata": {},
   "outputs": [
    {
     "name": "stdout",
     "output_type": "stream",
     "text": [
      "<class 'numpy.ndarray'>\n"
     ]
    }
   ],
   "source": [
    "# CREATE A NumPY ndarray OBJECT\n",
    "\n",
    "# The array object in Numpy is called ndarray. We can create a ndarray using array() function.\n",
    "\n",
    "arr = np.array([1,2,3,4,5,6])\n",
    "\n",
    "print(type(arr))\n"
   ]
  },
  {
   "cell_type": "code",
   "execution_count": null,
   "id": "9a565431",
   "metadata": {},
   "outputs": [],
   "source": [
    "# type() : built in python function, returns the type of the object passed to it."
   ]
  },
  {
   "cell_type": "code",
   "execution_count": null,
   "id": "fd994462",
   "metadata": {},
   "outputs": [],
   "source": [
    "'''If we pass any list, tuple, or any array-like object to array() function, it will be converted into ndarray'''"
   ]
  },
  {
   "cell_type": "code",
   "execution_count": null,
   "id": "9bd9a5a2",
   "metadata": {},
   "outputs": [],
   "source": [
    "# nested array: are arrays that have arrays as their elements."
   ]
  },
  {
   "cell_type": "code",
   "execution_count": 11,
   "id": "bd2f5b88",
   "metadata": {},
   "outputs": [
    {
     "data": {
      "text/plain": [
       "array(42)"
      ]
     },
     "execution_count": 11,
     "metadata": {},
     "output_type": "execute_result"
    }
   ],
   "source": [
    "# -------------------- DIMENTIONS IN ARRAYS -------------------------- #\n",
    "\n",
    "# 0-D ARRAY:\n",
    "\n",
    "# Each value in an array is a 0-D array.\n",
    "\n",
    "arr0 = np.array(42)\n",
    "\n",
    "arr0"
   ]
  },
  {
   "cell_type": "code",
   "execution_count": 12,
   "id": "204622c4",
   "metadata": {},
   "outputs": [
    {
     "data": {
      "text/plain": [
       "array([1, 2, 3, 4, 5, 6])"
      ]
     },
     "execution_count": 12,
     "metadata": {},
     "output_type": "execute_result"
    }
   ],
   "source": [
    "# 1-D Arrays:\n",
    "\n",
    "# An array that has 0-D arrays as its elements is called uni-dimensional or 1-D array.\n",
    "\n",
    "arr1 = np.array([1,2,3,4,5,6])\n",
    "\n",
    "arr1"
   ]
  },
  {
   "cell_type": "code",
   "execution_count": 13,
   "id": "60196ecf",
   "metadata": {},
   "outputs": [
    {
     "data": {
      "text/plain": [
       "array([[1, 2, 3],\n",
       "       [8, 7, 6]])"
      ]
     },
     "execution_count": 13,
     "metadata": {},
     "output_type": "execute_result"
    }
   ],
   "source": [
    "# 2-D Arrays:\n",
    "\n",
    "# Has 1-D array as its elements. Often used to represent matrix\n",
    "\n",
    "'''NumPy has a whole sub module dedicated towards matrix operations called numpy.mat'''\n",
    "\n",
    "arr2 = np.array([[1,2,3], [8,7,6]])\n",
    "\n",
    "arr2"
   ]
  },
  {
   "cell_type": "code",
   "execution_count": 14,
   "id": "0ad09809",
   "metadata": {},
   "outputs": [
    {
     "data": {
      "text/plain": [
       "array([[[1, 2, 3],\n",
       "        [4, 5, 6],\n",
       "        [2, 3, 4],\n",
       "        [7, 9, 6]]])"
      ]
     },
     "execution_count": 14,
     "metadata": {},
     "output_type": "execute_result"
    }
   ],
   "source": [
    "# 3-D Arrays:\n",
    "\n",
    "# Has 2-D Arrays as its elements.\n",
    "\n",
    "arr3 = np.array([[[1,2,3], [4,5,6],[2,3,4],[7,9,6]]])\n",
    "\n",
    "arr3"
   ]
  },
  {
   "cell_type": "code",
   "execution_count": 15,
   "id": "cba71dd9",
   "metadata": {},
   "outputs": [
    {
     "name": "stdout",
     "output_type": "stream",
     "text": [
      "0\n",
      "1\n",
      "2\n",
      "3\n"
     ]
    }
   ],
   "source": [
    "# Check number of dimensions using .ndim \n",
    "\n",
    "print(arr0.ndim)\n",
    "print(arr1.ndim)\n",
    "print(arr2.ndim)\n",
    "print(arr3.ndim)"
   ]
  },
  {
   "cell_type": "code",
   "execution_count": 19,
   "id": "dab72613",
   "metadata": {},
   "outputs": [
    {
     "name": "stdout",
     "output_type": "stream",
     "text": [
      "[[[[[1 2 3 4 5]]]]]\n",
      "5\n"
     ]
    }
   ],
   "source": [
    "# Higher dimensional array\n",
    "\n",
    "#  - An array can have any number of dimensions\n",
    "#  - After creating an array you can define the number of dimensions using \"ndmin\" argument\n",
    "\n",
    "arr = np.array([1,2,3,4,5], ndmin = 5)\n",
    "\n",
    "print(arr)\n",
    "\n",
    "print(arr.ndim)"
   ]
  },
  {
   "cell_type": "code",
   "execution_count": 26,
   "id": "e169298c",
   "metadata": {},
   "outputs": [
    {
     "name": "stdout",
     "output_type": "stream",
     "text": [
      "1\n",
      "4\n",
      "5\n",
      "sum = 9\n"
     ]
    }
   ],
   "source": [
    "# ------------------------ NumPy Array Indexing ------------------------------ #\n",
    "\n",
    "# Accessing the elements of numpy array with index value\n",
    "# 1-D array\n",
    "arr = np.array([1,2,3,4,5])\n",
    "\n",
    "print(arr[0])\n",
    "print(arr[3])\n",
    "\n",
    "# Get last element\n",
    "print(arr[-1])\n",
    "\n",
    "# get the elements from specified indexes and add them and format with f-string\n",
    "print(f\"sum = {arr[3] + arr[4]}\") "
   ]
  },
  {
   "cell_type": "code",
   "execution_count": 28,
   "id": "254eb6aa",
   "metadata": {},
   "outputs": [
    {
     "name": "stdout",
     "output_type": "stream",
     "text": [
      "2\n",
      "9\n"
     ]
    }
   ],
   "source": [
    "# 2-D array\n",
    "arr = np.array([[1,2,3,4,5], [6,7,8,9,10]])\n",
    "\n",
    "# get second element from first row in a 2-D array\n",
    "\n",
    "print(arr[0,1])\n",
    "\n",
    "# get second element from first row in a 2-D array\n",
    "\n",
    "print(arr[1, 3])\n"
   ]
  },
  {
   "cell_type": "code",
   "execution_count": 62,
   "id": "2fd7a553",
   "metadata": {},
   "outputs": [
    {
     "name": "stdout",
     "output_type": "stream",
     "text": [
      "Array :  [[[ 1  2  3  4  5]\n",
      "  [ 6  7  8  9 10]\n",
      "  [ 0  3  6  1  8]\n",
      "  [11 12 13 14 15]]]\n",
      "First element :  1\n",
      "Second element in third row :  6\n",
      "last element in fourth row :  15\n"
     ]
    }
   ],
   "source": [
    "# 3-D array\n",
    "\n",
    "arr = np.array([[[1,2,3,4,5], [6,7,8,9,10], [0,3,6,1,8], [11,12,13,14,15]]])\n",
    "\n",
    "print(\"Array : \", arr)\n",
    "\n",
    "print(\"First element : \",arr[0,0,0])\n",
    "\n",
    "print(\"Second element in third row : \",arr[0,2,2])\n",
    "\n",
    "print(\"last element in fourth row : \",arr[0,3,-1])\n",
    "\n",
    "# SYNTAX : [Axis(in this example its 0 always), no. of row(0/1/2/3), position of element]\n",
    "\n"
   ]
  },
  {
   "cell_type": "code",
   "execution_count": 46,
   "id": "00dc53a3",
   "metadata": {},
   "outputs": [
    {
     "name": "stdout",
     "output_type": "stream",
     "text": [
      "Last Element in second row :  5\n",
      "middle Element in first row :  3\n"
     ]
    }
   ],
   "source": [
    "# ------------------- Negative Indexing ------------------------- #\n",
    "\n",
    "arr = np.array([[1,2,3,4,5], [3,4,9,6,5]])\n",
    "\n",
    "print(\"Last Element in second row : \", arr[1, -1])\n",
    "\n",
    "print(\"middle Element in first row : \", arr[0, -3])\n",
    "\n"
   ]
  },
  {
   "cell_type": "code",
   "execution_count": 55,
   "id": "387e5031",
   "metadata": {},
   "outputs": [
    {
     "name": "stdout",
     "output_type": "stream",
     "text": [
      "A slice from 0 to 2:  [2 6 3]\n",
      "start at zero, till end of array, with step 2:  [2 3 8 4 2 0 1]\n"
     ]
    }
   ],
   "source": [
    "# ------------------------------ NumPy ARRAY SLICING -------------------------------- #\n",
    "\n",
    "'''\n",
    "\n",
    "----->   [start : end]\n",
    "\n",
    "----->   [start : end : step]\n",
    "\n",
    "'''\n",
    "\n",
    "# If start is not passed its considered 0\n",
    "# If end is not given its considered lrngth of array\n",
    "# If step is not considered its considered 1\n",
    "\n",
    "\n",
    "arr = np.array([2,6,3,1,8,9,4,3,2,1,0,5,1,12])\n",
    "\n",
    "print(\"A slice from 0 to 2: \",arr[0:3]) # Gives till 2 end is not included\n",
    "\n",
    "print(\"start at zero, till end of array, with step 2: \",arr[0: : 2])\n",
    "\n",
    "\n",
    "# The result includes the start index, but excludes the end index."
   ]
  },
  {
   "cell_type": "code",
   "execution_count": 61,
   "id": "bbb86938",
   "metadata": {},
   "outputs": [
    {
     "name": "stdout",
     "output_type": "stream",
     "text": [
      "[1 0 5 1]\n",
      "[ 1  0  5  1 12]\n"
     ]
    }
   ],
   "source": [
    "# Negative Slicing\n",
    "\n",
    "print(arr[-5: -1]) # here end is not included\n",
    "\n",
    "print(arr[-5: ]) # here it goes till end value"
   ]
  },
  {
   "cell_type": "code",
   "execution_count": 79,
   "id": "640aefe8",
   "metadata": {},
   "outputs": [
    {
     "name": "stdout",
     "output_type": "stream",
     "text": [
      "[10]\n",
      "[ 2  4  6  8 10]\n",
      "[1 3 5 7 9]\n",
      "Reversed value with step of -2:  [10  8  6  4  2]\n",
      "Reversing array with negative indexing: [10  9  8  7  6  5  4  3  2  1]\n"
     ]
    }
   ],
   "source": [
    "# STEP - Using step value to determine the step of slicing\n",
    "\n",
    "arr = np.array([1,2,3,4,5,6,7,8,9,10])\n",
    "\n",
    "print(arr[-1: :2])\n",
    "\n",
    "print(arr[1: :2])\n",
    "\n",
    "# return every other element of entire array\n",
    "print(arr[ : : 2])\n",
    "\n",
    "print(\"Reversed value with step of -2: \",arr[-1: :-2]) \n",
    "\n",
    "print(\"Reversing array with negative indexing:\",arr[-1::-1]) \n"
   ]
  },
  {
   "cell_type": "code",
   "execution_count": 87,
   "id": "e55416b4",
   "metadata": {},
   "outputs": [
    {
     "name": "stdout",
     "output_type": "stream",
     "text": [
      "In first row, all ele from index 5:  [ 6  7  8  9 10]\n",
      "reversed second row:  [20 18 18 17 16 15 14 13 12 11]\n",
      "Print numbers from both arrays: [[ 1  2  3  4  5  6  7  8  9 10]\n",
      " [11 12 13 14 15 16 17 18 18 20]]\n"
     ]
    },
    {
     "data": {
      "text/plain": [
       "'Here first 0:2 indicates row numbers from 0 to 1 as 2 will not be included. If we specify 0:1 it will only print \\n0th(first) row.\\n'"
      ]
     },
     "execution_count": 87,
     "metadata": {},
     "output_type": "execute_result"
    }
   ],
   "source": [
    "# Slicing 2-D arrays\n",
    "# Syntax: arr[indexOfRow, start:End:Step]\n",
    "\n",
    "arr = np.array([[1,2,3,4,5,6,7,8,9,10],[11,12,13,14,15,16,17,18,18,20]])\n",
    "\n",
    "print(\"In first row, all ele from index 5: \",arr[0, 5: ])\n",
    "\n",
    "print(\"reversed second row: \",arr[1, -1: : -1])\n",
    "\n",
    "print(\"Print numbers from both arrays:\", arr[0:2, 0::1])\n",
    "\n",
    "'''Here first 0:2 indicates row numbers from 0 to 1 as 2 will not be included. If we specify 0:1 it will only print \n",
    "0th(first) row.\n",
    "'''\n"
   ]
  },
  {
   "cell_type": "code",
   "execution_count": 88,
   "id": "a9251773",
   "metadata": {},
   "outputs": [
    {
     "data": {
      "text/plain": [
       "'\\ni - integer\\nb - boolean\\nu - unsigned integer\\nf - float\\nc - complex float\\nm - timedelta\\nM - datetime\\nO - object\\nS - string\\nU - unicode string\\nV - fixed chunk of memory for other type ( void )\\n\\n'"
      ]
     },
     "execution_count": 88,
     "metadata": {},
     "output_type": "execute_result"
    }
   ],
   "source": [
    "# ---------------------------- NumPy Data Types ---------------------------------- #\n",
    "\n",
    "'''  DATA TYPES IN PYTHON '''\n",
    "\n",
    "'''\n",
    "\n",
    "1: string ----> \"It is a string\"\n",
    "2: boolean ---> True/False\n",
    "3: integer ---> 10\n",
    "4: float -----> 12.00\n",
    "5: complex ---> 2.5 + 1.0j\n",
    "\n",
    "'''\n",
    "\n",
    "# DATA TYPES IN NUMPY -- Numpy refers to datatypes with one character\n",
    "\n",
    "'''\n",
    "i - integer\n",
    "b - boolean\n",
    "u - unsigned integer\n",
    "f - float\n",
    "c - complex float\n",
    "m - timedelta\n",
    "M - datetime\n",
    "O - object\n",
    "S - string\n",
    "U - unicode string\n",
    "V - fixed chunk of memory for other type ( void )\n",
    "\n",
    "'''"
   ]
  },
  {
   "cell_type": "code",
   "execution_count": 89,
   "id": "0ed9bf3e",
   "metadata": {},
   "outputs": [
    {
     "name": "stdout",
     "output_type": "stream",
     "text": [
      "int64\n"
     ]
    }
   ],
   "source": [
    "# Checking the datatype of an array\n",
    "\n",
    "arr = np.array([1, 2, 3, 4])\n",
    "print(arr.dtype)"
   ]
  },
  {
   "cell_type": "code",
   "execution_count": 90,
   "id": "d5e47249",
   "metadata": {},
   "outputs": [
    {
     "name": "stdout",
     "output_type": "stream",
     "text": [
      "<U6\n"
     ]
    }
   ],
   "source": [
    "arr = np.array(['apple', 'banana', 'cherry'])\n",
    "\n",
    "print(arr.dtype)   #U - unicode string"
   ]
  },
  {
   "cell_type": "code",
   "execution_count": 91,
   "id": "ca5657f6",
   "metadata": {},
   "outputs": [
    {
     "name": "stdout",
     "output_type": "stream",
     "text": [
      "[b'1' b'2' b'3' b'4' b'5' b'6' b'7']\n",
      "|S1\n"
     ]
    }
   ],
   "source": [
    "# Creating arrays with a defined data type\n",
    "\n",
    "arr=np.array([1,2,3,4,5,6,7], dtype='S') #S - string\n",
    "\n",
    "print(arr)\n",
    "print(arr.dtype)"
   ]
  },
  {
   "cell_type": "code",
   "execution_count": 92,
   "id": "984483cb",
   "metadata": {},
   "outputs": [
    {
     "ename": "ValueError",
     "evalue": "invalid literal for int() with base 10: 'a'",
     "output_type": "error",
     "traceback": [
      "\u001b[0;31m---------------------------------------------------------------------------\u001b[0m",
      "\u001b[0;31mValueError\u001b[0m                                Traceback (most recent call last)",
      "Cell \u001b[0;32mIn[92], line 1\u001b[0m\n\u001b[0;32m----> 1\u001b[0m arr \u001b[38;5;241m=\u001b[39m np\u001b[38;5;241m.\u001b[39marray([\u001b[38;5;124m'\u001b[39m\u001b[38;5;124ma\u001b[39m\u001b[38;5;124m'\u001b[39m, \u001b[38;5;124m'\u001b[39m\u001b[38;5;124m2\u001b[39m\u001b[38;5;124m'\u001b[39m, \u001b[38;5;124m'\u001b[39m\u001b[38;5;124m3\u001b[39m\u001b[38;5;124m'\u001b[39m], dtype\u001b[38;5;241m=\u001b[39m\u001b[38;5;124m'\u001b[39m\u001b[38;5;124mi\u001b[39m\u001b[38;5;124m'\u001b[39m)\n",
      "\u001b[0;31mValueError\u001b[0m: invalid literal for int() with base 10: 'a'"
     ]
    }
   ],
   "source": [
    "arr = np.array(['a', '2', '3'], dtype='i')\n",
    "\n",
    "# python raises value error when it cannot convert a value to another datatype. here python is unable to convert \n",
    "# 'a' to integer."
   ]
  },
  {
   "cell_type": "code",
   "execution_count": 94,
   "id": "db7419d5",
   "metadata": {},
   "outputs": [
    {
     "name": "stdout",
     "output_type": "stream",
     "text": [
      "[1 2 3]\n",
      "int32\n"
     ]
    }
   ],
   "source": [
    "# Converting datatype of an existing array \n",
    "\n",
    "'''\n",
    ".astype('i')\n",
    "\n",
    "'''\n",
    "\n",
    "arr = np.array([1.1, 2.1, 3.1])\n",
    "\n",
    "newarr = arr.astype('i')\n",
    "\n",
    "print(newarr)\n",
    "print(newarr.dtype)"
   ]
  },
  {
   "cell_type": "code",
   "execution_count": 1,
   "id": "6948ab1c",
   "metadata": {},
   "outputs": [
    {
     "data": {
      "text/plain": [
       "'\\n- Main difference between copy and view is Copy is a new array and view is just a view of original array.\\n- Copy owns its data. If any changes are made in copy it will not reflect in main array and vice versa.\\n\\n- View does not own the data. If any changes are made in the view they reflect in original array \\nand any changes made in original array reflect in view.\\n\\n'"
      ]
     },
     "execution_count": 1,
     "metadata": {},
     "output_type": "execute_result"
    }
   ],
   "source": [
    "# NumPy Array Copy vs View\n",
    "\n",
    "'''\n",
    "- Main difference between copy and view is Copy is a new array and view is just a view of original array.\n",
    "- Copy owns its data. If any changes are made in copy it will not reflect in main array and vice versa.\n",
    "\n",
    "- View does not own the data. If any changes are made in the view they reflect in original array \n",
    "and any changes made in original array reflect in view.\n",
    "\n",
    "'''\n"
   ]
  },
  {
   "cell_type": "code",
   "execution_count": 2,
   "id": "cf78090d",
   "metadata": {},
   "outputs": [
    {
     "name": "stdout",
     "output_type": "stream",
     "text": [
      "[1 2 3 4 5 6 7 8]\n",
      "[1 2 3 4 5 6 7 8]\n"
     ]
    }
   ],
   "source": [
    "import numpy as np\n",
    "\n",
    "arr = np.array([1,2,3,4,5,6,7,8])\n",
    "\n",
    "newArr = arr.copy()\n",
    "\n",
    "print(arr)\n",
    "print(newArr)"
   ]
  },
  {
   "cell_type": "code",
   "execution_count": 4,
   "id": "9ffe3686",
   "metadata": {},
   "outputs": [
    {
     "name": "stdout",
     "output_type": "stream",
     "text": [
      "[100   2   3   4   5   6   7   8]\n",
      "[1 2 3 4 5 6 7 8]\n",
      "[100   2   3   4   5   6   7   8]\n",
      "[200   2   3   4   5   6   7   8]\n"
     ]
    }
   ],
   "source": [
    "# Now we will try to make changes in copy/original view and see if these changes reflect in the other one.\n",
    "\n",
    "arr[0]= 100\n",
    "print(arr)\n",
    "print(newArr)\n",
    "\n",
    "newArr[0] = 200\n",
    "print(arr)\n",
    "print(newArr)\n",
    "\n"
   ]
  },
  {
   "cell_type": "code",
   "execution_count": 5,
   "id": "501bec70",
   "metadata": {},
   "outputs": [],
   "source": [
    "# We can see if we change a value in one array, it does not reflect in another."
   ]
  },
  {
   "cell_type": "code",
   "execution_count": 9,
   "id": "b8a004da",
   "metadata": {},
   "outputs": [
    {
     "name": "stdout",
     "output_type": "stream",
     "text": [
      "[1 2 3 4 9 8 7 6]\n",
      "[1 2 3 4 9 8 7 6]\n"
     ]
    }
   ],
   "source": [
    "arr = np.array([1,2,3,4,9,8,7,6])\n",
    "\n",
    "newArr = arr.view()\n",
    "\n",
    "print(arr)\n",
    "print(newArr)"
   ]
  },
  {
   "cell_type": "code",
   "execution_count": 10,
   "id": "390e2cf1",
   "metadata": {},
   "outputs": [
    {
     "name": "stdout",
     "output_type": "stream",
     "text": [
      "[100   2   3   4   9   8   7   6]\n",
      "[100   2   3   4   9   8   7   6]\n"
     ]
    }
   ],
   "source": [
    "newArr[0] = 100\n",
    "\n",
    "print(arr)\n",
    "print(newArr)"
   ]
  },
  {
   "cell_type": "code",
   "execution_count": null,
   "id": "00713464",
   "metadata": {},
   "outputs": [],
   "source": [
    "# Tnhis shows any chnages made in one reflects in other."
   ]
  },
  {
   "cell_type": "code",
   "execution_count": 11,
   "id": "8fbadb6d",
   "metadata": {},
   "outputs": [
    {
     "name": "stdout",
     "output_type": "stream",
     "text": [
      "None\n",
      "[1 2 3 4 5]\n"
     ]
    }
   ],
   "source": [
    "# Checking if array owns its data\n",
    "\n",
    "'''\n",
    "- Every NumPy array has the attribute called 'base' which return None is the array owns data,\n",
    "otherwise base refers to the original object.\n",
    "\n",
    "'''\n",
    "\n",
    "arr = np.array([1, 2, 3, 4, 5])\n",
    "\n",
    "x = arr.copy()    # copy owns data\n",
    "y = arr.view()    # View does not own the data\n",
    "\n",
    "print(x.base)\n",
    "print(y.base)"
   ]
  },
  {
   "cell_type": "code",
   "execution_count": 23,
   "id": "1fed1c76",
   "metadata": {},
   "outputs": [
    {
     "name": "stdout",
     "output_type": "stream",
     "text": [
      "(2, 4)\n"
     ]
    }
   ],
   "source": [
    "# Numpy Array Shape\n",
    "\n",
    "arr = np.array([[1, 2, 3, 4], [5, 6, 7, 8]])\n",
    "\n",
    "print(arr.shape)   # gives (rows,columns)"
   ]
  },
  {
   "cell_type": "code",
   "execution_count": 25,
   "id": "3f6fab65",
   "metadata": {},
   "outputs": [
    {
     "name": "stdout",
     "output_type": "stream",
     "text": [
      "(1, 1, 1, 1, 4)\n"
     ]
    }
   ],
   "source": [
    "arr = np.array([1, 2, 3, 4],ndmin=5)\n",
    "                \n",
    "print(arr.shape)\n",
    "\n",
    "# Integers at every index tells about the number of elements the corresponding dimension has.\n",
    "\n",
    "# In the example above at index-4 we have value 4, so we can say that 5th ( 4 + 1 th) dimension has 4 elements."
   ]
  },
  {
   "cell_type": "markdown",
   "id": "c8050f5c",
   "metadata": {},
   "source": [
    "# Numpy Array Reshaping\n",
    "\n"
   ]
  },
  {
   "cell_type": "markdown",
   "id": "5819371c",
   "metadata": {},
   "source": [
    "### Reshaping --> changing the shape of an array\n",
    "### Shape of array --> Number of elements in each dimension\n",
    "\n",
    "### By reshaping we can --> Add or remove dimensions or change number of elements in each dimension"
   ]
  },
  {
   "cell_type": "markdown",
   "id": "54163563",
   "metadata": {},
   "source": [
    "### arr.reshape() --- >  Function"
   ]
  },
  {
   "cell_type": "code",
   "execution_count": 6,
   "id": "b41157ca",
   "metadata": {},
   "outputs": [
    {
     "name": "stdout",
     "output_type": "stream",
     "text": [
      "[[ 1  2  3]\n",
      " [ 4  5  6]\n",
      " [ 7  8  9]\n",
      " [10 11 12]]\n"
     ]
    }
   ],
   "source": [
    "# reshape from 1-D to 2-D\n",
    "import numpy as np\n",
    "\n",
    "arr = np.array([1, 2, 3, 4, 5, 6, 7, 8, 9, 10, 11, 12])\n",
    "\n",
    "newarr = arr.reshape(4,3)\n",
    "\n",
    "print(newarr)\n",
    "\n",
    "# Converting an 1-D array into a 2-D array"
   ]
  },
  {
   "cell_type": "code",
   "execution_count": 7,
   "id": "e74fdcf2",
   "metadata": {},
   "outputs": [
    {
     "name": "stdout",
     "output_type": "stream",
     "text": [
      "[[[ 1  2]\n",
      "  [ 3  4]\n",
      "  [ 5  6]]\n",
      "\n",
      " [[ 7  8]\n",
      "  [ 9 10]\n",
      "  [11 12]]]\n"
     ]
    }
   ],
   "source": [
    "# Converting into a 3-D array\n",
    "\n",
    "newarr = arr.reshape(2,3,2)\n",
    "\n",
    "print(newarr)"
   ]
  },
  {
   "cell_type": "code",
   "execution_count": 8,
   "id": "66544b6e",
   "metadata": {},
   "outputs": [
    {
     "ename": "ValueError",
     "evalue": "cannot reshape array of size 8 into shape (3,3)",
     "output_type": "error",
     "traceback": [
      "\u001b[0;31m---------------------------------------------------------------------------\u001b[0m",
      "\u001b[0;31mValueError\u001b[0m                                Traceback (most recent call last)",
      "Cell \u001b[0;32mIn[8], line 6\u001b[0m\n\u001b[1;32m      1\u001b[0m \u001b[38;5;124;03m''' We can reshape an 8 elements 1D array into 4 elements in 2 rows 2D array but we cannot \u001b[39;00m\n\u001b[1;32m      2\u001b[0m \u001b[38;5;124;03mreshape it into a 3 elements 3 rows 2D array as that would require 3x3 = 9 elements'''\u001b[39;00m\n\u001b[1;32m      4\u001b[0m arr \u001b[38;5;241m=\u001b[39m np\u001b[38;5;241m.\u001b[39marray([\u001b[38;5;241m1\u001b[39m, \u001b[38;5;241m2\u001b[39m, \u001b[38;5;241m3\u001b[39m, \u001b[38;5;241m4\u001b[39m, \u001b[38;5;241m5\u001b[39m, \u001b[38;5;241m6\u001b[39m, \u001b[38;5;241m7\u001b[39m, \u001b[38;5;241m8\u001b[39m])\n\u001b[0;32m----> 6\u001b[0m newarr \u001b[38;5;241m=\u001b[39m arr\u001b[38;5;241m.\u001b[39mreshape(\u001b[38;5;241m3\u001b[39m, \u001b[38;5;241m3\u001b[39m)\n\u001b[1;32m      8\u001b[0m \u001b[38;5;28mprint\u001b[39m(newarr)\n",
      "\u001b[0;31mValueError\u001b[0m: cannot reshape array of size 8 into shape (3,3)"
     ]
    }
   ],
   "source": [
    "''' We can reshape an 8 elements 1D array into 4 elements in 2 rows 2D array but we cannot \n",
    "reshape it into a 3 elements 3 rows 2D array as that would require 3x3 = 9 elements'''\n",
    "\n",
    "arr = np.array([1, 2, 3, 4, 5, 6, 7, 8])\n",
    "\n",
    "newarr = arr.reshape(3, 3)\n",
    "\n",
    "print(newarr)\n",
    "\n",
    "# This code will give an error"
   ]
  },
  {
   "cell_type": "code",
   "execution_count": 9,
   "id": "8b9b5296",
   "metadata": {},
   "outputs": [
    {
     "name": "stdout",
     "output_type": "stream",
     "text": [
      "[[[1 2]\n",
      "  [3 4]]\n",
      "\n",
      " [[5 6]\n",
      "  [7 8]]]\n"
     ]
    }
   ],
   "source": [
    "# Unknown Dimension\n",
    "\n",
    "# We can have one \"unknown\" dimension.\n",
    "\n",
    "# Meaning that you do not have to specify an exact number for one of the dimensions in the reshape method.\n",
    "\n",
    "# Pass -1 as the value, and NumPy will calculate this number for you.\n",
    "\n",
    "arr = np.array([1, 2, 3, 4, 5, 6, 7, 8])\n",
    "\n",
    "newarr = arr.reshape(2, 2, -1)\n",
    "\n",
    "print(newarr)"
   ]
  },
  {
   "cell_type": "code",
   "execution_count": null,
   "id": "cfab01a9",
   "metadata": {},
   "outputs": [],
   "source": [
    "# -1 cannot be passed to more than one dimension"
   ]
  },
  {
   "cell_type": "markdown",
   "id": "7525dcef",
   "metadata": {},
   "source": [
    "# Flattering the array"
   ]
  },
  {
   "cell_type": "code",
   "execution_count": 12,
   "id": "e500289d",
   "metadata": {},
   "outputs": [
    {
     "name": "stdout",
     "output_type": "stream",
     "text": [
      "[1 2 3 4 5 6 7 8]\n"
     ]
    }
   ],
   "source": [
    "# This means converting an multidimensional array into a 1-D array.\n",
    "\n",
    "arr = np.array([[1, 2, 3, 4], [5, 6, 7, 8]])\n",
    "\n",
    "newarr = arr.reshape(-1)\n",
    "\n",
    "print(newarr)"
   ]
  },
  {
   "cell_type": "code",
   "execution_count": null,
   "id": "d122e4fc",
   "metadata": {},
   "outputs": [],
   "source": [
    "# reshape(-1) --> function\n",
    "\n",
    "'''\n",
    "There are a lot of functions for changing the shapes of arrays in numpy flatten, ravel and also for \n",
    "rearranging the elements rot90, flip, fliplr, flipud etc. These fall under Intermediate to Advanced \n",
    "section of numpy.\n",
    "\n",
    "'''"
   ]
  },
  {
   "cell_type": "markdown",
   "id": "1d1a635c",
   "metadata": {},
   "source": [
    "# Numpy Array Iterating"
   ]
  },
  {
   "cell_type": "code",
   "execution_count": 13,
   "id": "179e7376",
   "metadata": {},
   "outputs": [
    {
     "name": "stdout",
     "output_type": "stream",
     "text": [
      "1\n",
      "2\n",
      "3\n",
      "4\n",
      "5\n",
      "6\n"
     ]
    }
   ],
   "source": [
    "# Iterating --> going through array elements one by one\n",
    "\n",
    "# 1-D Array\n",
    "\n",
    "arr = np.array([1,2,3,4,5,6])\n",
    "\n",
    "for x in arr:\n",
    "    print(x)\n"
   ]
  },
  {
   "cell_type": "code",
   "execution_count": 17,
   "id": "f156d0a0",
   "metadata": {},
   "outputs": [
    {
     "name": "stdout",
     "output_type": "stream",
     "text": [
      "[1 2 3 4 5]\n",
      "[ 6  7  8  9 10]\n"
     ]
    }
   ],
   "source": [
    "# 2-D Array\n",
    "\n",
    "import numpy as np\n",
    "\n",
    "arr = np.array([[1,2,3,4,5],[6,7,8,9,10]])\n",
    "\n",
    "for x in arr:\n",
    "    print(x)\n",
    "    \n",
    "# Here it takes 1 row of a 2-D array as 1 element."
   ]
  },
  {
   "cell_type": "code",
   "execution_count": 18,
   "id": "05685300",
   "metadata": {},
   "outputs": [
    {
     "name": "stdout",
     "output_type": "stream",
     "text": [
      "1\n",
      "2\n",
      "3\n",
      "4\n",
      "5\n",
      "6\n",
      "7\n",
      "8\n",
      "9\n",
      "10\n"
     ]
    }
   ],
   "source": [
    "# In above example we are not iterating through each element, \n",
    "# to do so we have to iterate the array in each dimension\n",
    "\n",
    "arr = np.array([[1,2,3,4,5],[6,7,8,9,10]])\n",
    "\n",
    "for x in arr:\n",
    "    for y in x:\n",
    "        print(y)"
   ]
  },
  {
   "cell_type": "code",
   "execution_count": 20,
   "id": "669c0ffd",
   "metadata": {},
   "outputs": [
    {
     "name": "stdout",
     "output_type": "stream",
     "text": [
      "1\n",
      "2\n",
      "3\n",
      "4\n",
      "5\n",
      "6\n",
      "5\n",
      "4\n",
      "1\n",
      "8\n",
      "7\n",
      "9\n"
     ]
    }
   ],
   "source": [
    "# Iterating 3-D array\n",
    "\n",
    "arr = np.array([[[1,2,3],[4,5,6]],[[5,4,1], [8,7,9]]])\n",
    "\n",
    "for x in arr:\n",
    "    for y in x:\n",
    "        for z in y:\n",
    "            print(z)"
   ]
  },
  {
   "cell_type": "markdown",
   "id": "c5e815ee",
   "metadata": {},
   "source": [
    "# Iterating array using nditer()"
   ]
  },
  {
   "cell_type": "code",
   "execution_count": 21,
   "id": "69ebb1d6",
   "metadata": {},
   "outputs": [
    {
     "data": {
      "text/plain": [
       "'In basic for loops, iterating through each scalar of an array we need to use n for loops\\nwhich can be difficult to write for arrays with very high dimensionality.'"
      ]
     },
     "execution_count": 21,
     "metadata": {},
     "output_type": "execute_result"
    }
   ],
   "source": [
    "# nditer() -->  function used to iterate over very basic to very advanced functions\n",
    "\n",
    "'''In basic for loops, iterating through each scalar of an array we need to use n for loops\n",
    "which can be difficult to write for arrays with very high dimensionality.'''"
   ]
  },
  {
   "cell_type": "code",
   "execution_count": 22,
   "id": "a1ca6117",
   "metadata": {},
   "outputs": [
    {
     "name": "stdout",
     "output_type": "stream",
     "text": [
      "1\n",
      "2\n",
      "3\n",
      "4\n",
      "5\n",
      "6\n",
      "5\n",
      "4\n",
      "1\n",
      "8\n",
      "7\n",
      "9\n"
     ]
    }
   ],
   "source": [
    "# implementing same example of 3-D array with nditer()\n",
    "\n",
    "arr = np.array([[[1,2,3],[4,5,6]],[[5,4,1], [8,7,9]]])\n",
    "\n",
    "for x in np.nditer(arr):\n",
    "    print(x)"
   ]
  },
  {
   "cell_type": "code",
   "execution_count": 24,
   "id": "f725b350",
   "metadata": {},
   "outputs": [
    {
     "name": "stdout",
     "output_type": "stream",
     "text": [
      "b'1'\n",
      "b'2'\n",
      "b'3'\n"
     ]
    }
   ],
   "source": [
    "# Iterating array with different datatypes\n",
    "\n",
    "arr = np.array([1,2,3])\n",
    "\n",
    "for x in np.nditer(arr, flags=['buffered'], op_dtypes=['S']):\n",
    "    print(x)"
   ]
  },
  {
   "cell_type": "code",
   "execution_count": 38,
   "id": "5154333a",
   "metadata": {},
   "outputs": [
    {
     "name": "stdout",
     "output_type": "stream",
     "text": [
      "4\n",
      "5\n",
      "6\n",
      "8\n",
      "7\n",
      "9\n"
     ]
    }
   ],
   "source": [
    "# iterating with different step size\n",
    "\n",
    "arr = np.array([[[1,2,3],[4,5,6]],[[5,4,1], [8,7,9]]])\n",
    "\n",
    "for x in np.nditer(arr[:, 1::2]):\n",
    "    print(x)\n"
   ]
  },
  {
   "cell_type": "code",
   "execution_count": 39,
   "id": "04c09c8e",
   "metadata": {},
   "outputs": [
    {
     "name": "stdout",
     "output_type": "stream",
     "text": [
      "(0,) 1\n",
      "(1,) 3\n",
      "(2,) 8\n",
      "(3,) 7\n"
     ]
    }
   ],
   "source": [
    "# Enumerated Iteration using ndenumerate()\n",
    "\n",
    "# Enumeration --> Mentioning sequence number of something one by one\n",
    "\n",
    "arr = np.array([1,3,8,7])\n",
    "\n",
    "for idx, x in np.ndenumerate(arr):\n",
    "    print(idx, x)"
   ]
  },
  {
   "cell_type": "code",
   "execution_count": 40,
   "id": "3c72b07f",
   "metadata": {},
   "outputs": [
    {
     "name": "stdout",
     "output_type": "stream",
     "text": [
      "(0, 0) 1\n",
      "(0, 1) 3\n",
      "(0, 2) 8\n",
      "(0, 3) 7\n",
      "(1, 0) 4\n",
      "(1, 1) 5\n",
      "(1, 2) 6\n",
      "(1, 3) 3\n"
     ]
    }
   ],
   "source": [
    "arr = np.array([[1,3,8,7],[4,5,6,3]])\n",
    "\n",
    "for idx, x in np.ndenumerate(arr):\n",
    "    print(idx, x)"
   ]
  },
  {
   "cell_type": "markdown",
   "id": "35a832aa",
   "metadata": {},
   "source": [
    "# Numpy joining Array"
   ]
  },
  {
   "cell_type": "code",
   "execution_count": null,
   "id": "7810275a",
   "metadata": {},
   "outputs": [],
   "source": [
    "# Joining: putting contents of two or more array together\n",
    "\n",
    "# In NumPy we join arrays by axes.\n",
    "\n",
    "''' \n",
    "\n",
    "concatenate()  --> function used to join arrays\n",
    "\n",
    "'''\n",
    "\n",
    "# We pass a sequence of arrays that we want to join to the concatenate() function, along with the axis.\n",
    "# If axis is not explicitly passed, it is taken as 0.\n",
    "\n"
   ]
  },
  {
   "cell_type": "code",
   "execution_count": 42,
   "id": "37264e71",
   "metadata": {},
   "outputs": [
    {
     "name": "stdout",
     "output_type": "stream",
     "text": [
      "[1 2 3 4 5 6 7 8 9 5]\n"
     ]
    }
   ],
   "source": [
    "arr1 = np.array([1,2,3,4,5])\n",
    "\n",
    "arr2 = np.array([6,7,8,9,5])\n",
    "\n",
    "newarr = np.concatenate((arr1, arr2))\n",
    "\n",
    "print(newarr)"
   ]
  },
  {
   "cell_type": "code",
   "execution_count": 43,
   "id": "54b4e415",
   "metadata": {},
   "outputs": [
    {
     "name": "stdout",
     "output_type": "stream",
     "text": [
      "[[1 2 5 6]\n",
      " [3 4 7 8]]\n"
     ]
    }
   ],
   "source": [
    "arr1 = np.array([[1, 2], [3, 4]])\n",
    "\n",
    "arr2 = np.array([[5, 6], [7, 8]])\n",
    "\n",
    "arr = np.concatenate((arr1, arr2), axis=1)\n",
    "\n",
    "print(arr)"
   ]
  },
  {
   "cell_type": "markdown",
   "id": "e809ea23",
   "metadata": {},
   "source": [
    "## Joining Arrays using stack function"
   ]
  },
  {
   "cell_type": "code",
   "execution_count": 44,
   "id": "431950b1",
   "metadata": {},
   "outputs": [
    {
     "name": "stdout",
     "output_type": "stream",
     "text": [
      "[[1 4]\n",
      " [2 5]\n",
      " [3 6]]\n"
     ]
    }
   ],
   "source": [
    "# Stacking is same as concatenation, the only difference is that stacking is done along a new axis.\n",
    "# We pass a sequence of arrays that we want to join to the stack() method along with the axis. \n",
    "# If axis is not explicitly passed it is taken as 0.\n",
    "\n",
    "arr1 = np.array([1, 2, 3])\n",
    "\n",
    "arr2 = np.array([4, 5, 6])\n",
    "\n",
    "arr = np.stack((arr1, arr2), axis=1)\n",
    "\n",
    "print(arr)"
   ]
  },
  {
   "cell_type": "code",
   "execution_count": 45,
   "id": "17420c62",
   "metadata": {},
   "outputs": [
    {
     "name": "stdout",
     "output_type": "stream",
     "text": [
      "[1 2 3 4 5 6]\n"
     ]
    }
   ],
   "source": [
    "# Stacking Along rows\n",
    "'''\n",
    "hstack()\n",
    "'''\n",
    "\n",
    "arr1 = np.array([1, 2, 3])\n",
    "\n",
    "arr2 = np.array([4, 5, 6])\n",
    "\n",
    "arr = np.hstack((arr1, arr2))\n",
    "\n",
    "print(arr)"
   ]
  },
  {
   "cell_type": "code",
   "execution_count": 46,
   "id": "829645cd",
   "metadata": {},
   "outputs": [
    {
     "name": "stdout",
     "output_type": "stream",
     "text": [
      "[[1 2 3]\n",
      " [4 5 6]]\n"
     ]
    }
   ],
   "source": [
    "# stacking along column\n",
    "\n",
    "'''\n",
    "vstack()\n",
    "'''\n",
    "\n",
    "arr1 = np.array([1, 2, 3])\n",
    "\n",
    "arr2 = np.array([4, 5, 6])\n",
    "\n",
    "arr = np.vstack((arr1, arr2))\n",
    "\n",
    "print(arr)"
   ]
  },
  {
   "cell_type": "code",
   "execution_count": 47,
   "id": "84c5eff2",
   "metadata": {},
   "outputs": [
    {
     "name": "stdout",
     "output_type": "stream",
     "text": [
      "[[[1 4]\n",
      "  [2 5]\n",
      "  [3 6]]]\n"
     ]
    }
   ],
   "source": [
    "# stacking along height (Depth)\n",
    "\n",
    "'''\n",
    "dstack()\n",
    "\n",
    "'''\n",
    "\n",
    "arr1 = np.array([1, 2, 3])\n",
    "\n",
    "arr2 = np.array([4, 5, 6])\n",
    "\n",
    "arr = np.dstack((arr1, arr2))\n",
    "\n",
    "print(arr)"
   ]
  },
  {
   "cell_type": "markdown",
   "id": "4d46d798",
   "metadata": {},
   "source": [
    "# Numpy Splitting Array"
   ]
  },
  {
   "cell_type": "code",
   "execution_count": 52,
   "id": "16255408",
   "metadata": {},
   "outputs": [
    {
     "name": "stdout",
     "output_type": "stream",
     "text": [
      "[array([[[1, 4],\n",
      "        [2, 5],\n",
      "        [3, 6]]]), array([], shape=(0, 3, 2), dtype=int64), array([], shape=(0, 3, 2), dtype=int64)]\n"
     ]
    }
   ],
   "source": [
    "# splitting breaks one array into multiple\n",
    "\n",
    "''' array_split()'''\n",
    "\n",
    "arr1 = np.array([1,2,3,4,5,2,7,8])\n",
    "\n",
    "newarr = np.array_split(arr, 3)\n",
    "\n",
    "print(newarr)"
   ]
  },
  {
   "cell_type": "code",
   "execution_count": 55,
   "id": "427b11de",
   "metadata": {},
   "outputs": [
    {
     "name": "stdout",
     "output_type": "stream",
     "text": [
      "[array([[[1, 4],\n",
      "        [2, 5],\n",
      "        [3, 6]]]), array([], shape=(0, 3, 2), dtype=int64), array([], shape=(0, 3, 2), dtype=int64), array([], shape=(0, 3, 2), dtype=int64)]\n"
     ]
    }
   ],
   "source": [
    "# If there are no enough elements for split, the function adjusts from the end\n",
    "arr1 = np.array([1,2,3,4,5,6])\n",
    "\n",
    "newarr = np.array_split(arr, 4)\n",
    "\n",
    "print(newarr)"
   ]
  },
  {
   "cell_type": "code",
   "execution_count": null,
   "id": "95d0b5cf",
   "metadata": {},
   "outputs": [],
   "source": [
    "'''We also have the method split() available but it will not adjust the elements when elements are less \n",
    "in source array for splitting like in example above,array_split() worked properly but split() would fail.'''"
   ]
  },
  {
   "cell_type": "markdown",
   "id": "d394b0db",
   "metadata": {},
   "source": [
    "# split into arrays"
   ]
  },
  {
   "cell_type": "code",
   "execution_count": 2,
   "id": "36f2f82f",
   "metadata": {},
   "outputs": [
    {
     "name": "stdout",
     "output_type": "stream",
     "text": [
      "[1 2]\n",
      "[3 4]\n",
      "[5 6]\n"
     ]
    }
   ],
   "source": [
    "# array_split() --> this method returns an array containing each of the slpit as an array\n",
    "\n",
    "# If you split an array into 3 arrays, you can access them from the result just like any array element:\n",
    "\n",
    "import numpy as np\n",
    "\n",
    "arr = np.array([1, 2, 3, 4, 5, 6])\n",
    "\n",
    "newarr = np.array_split(arr, 3)\n",
    "\n",
    "print(newarr[0])\n",
    "print(newarr[1])\n",
    "print(newarr[2])"
   ]
  },
  {
   "cell_type": "code",
   "execution_count": 6,
   "id": "64a4b45b",
   "metadata": {},
   "outputs": [
    {
     "name": "stdout",
     "output_type": "stream",
     "text": [
      "[array([[1, 2],\n",
      "       [3, 4]]), array([[5, 6],\n",
      "       [7, 8]]), array([[ 9, 10],\n",
      "       [11, 12]])]\n"
     ]
    }
   ],
   "source": [
    "# splitting 2-D arrays:\n",
    "\n",
    "arr = np.array([[1, 2], [3, 4], [5, 6], [7, 8], [9, 10], [11, 12]])\n",
    "\n",
    "newarr = np.array_split(arr, 3)\n",
    "\n",
    "print(newarr)"
   ]
  },
  {
   "cell_type": "code",
   "execution_count": 8,
   "id": "0865ee04",
   "metadata": {},
   "outputs": [
    {
     "name": "stdout",
     "output_type": "stream",
     "text": [
      "[array([[ 1],\n",
      "       [ 4],\n",
      "       [ 7],\n",
      "       [10],\n",
      "       [13],\n",
      "       [16]]), array([[ 2],\n",
      "       [ 5],\n",
      "       [ 8],\n",
      "       [11],\n",
      "       [14],\n",
      "       [17]]), array([[ 3],\n",
      "       [ 6],\n",
      "       [ 9],\n",
      "       [12],\n",
      "       [15],\n",
      "       [18]])]\n"
     ]
    }
   ],
   "source": [
    "arr = np.array([[1, 2, 3], [4, 5, 6], [7, 8, 9], [10, 11, 12], [13, 14, 15], [16, 17, 18]])\n",
    "\n",
    "newarr = np.array_split(arr, 3, axis=1)\n",
    "\n",
    "print(newarr)\n",
    "\n",
    "# splitting along the row (axis)"
   ]
  },
  {
   "cell_type": "code",
   "execution_count": 10,
   "id": "86a45828",
   "metadata": {},
   "outputs": [
    {
     "name": "stdout",
     "output_type": "stream",
     "text": [
      "[array([[ 1],\n",
      "       [ 4],\n",
      "       [ 7],\n",
      "       [10],\n",
      "       [13],\n",
      "       [16]]), array([[ 2],\n",
      "       [ 5],\n",
      "       [ 8],\n",
      "       [11],\n",
      "       [14],\n",
      "       [17]]), array([[ 3],\n",
      "       [ 6],\n",
      "       [ 9],\n",
      "       [12],\n",
      "       [15],\n",
      "       [18]])]\n"
     ]
    }
   ],
   "source": [
    "# An alternate solution is using hsplit() opposite of hstack() -> (instead of above example)\n",
    "\n",
    "arr = np.array([[1, 2, 3], [4, 5, 6], [7, 8, 9], [10, 11, 12], [13, 14, 15], [16, 17, 18]])\n",
    "\n",
    "newarr = np.hsplit(arr, 3)\n",
    "\n",
    "print(newarr)"
   ]
  },
  {
   "cell_type": "code",
   "execution_count": null,
   "id": "bab10286",
   "metadata": {},
   "outputs": [],
   "source": [
    "''' Similar alternates to vstack() and dstack() are available as vsplit() and dsplit(). '''"
   ]
  },
  {
   "cell_type": "markdown",
   "id": "7b88b973",
   "metadata": {},
   "source": [
    "# NumPy Searching Arrays"
   ]
  },
  {
   "cell_type": "code",
   "execution_count": 12,
   "id": "5a690f52",
   "metadata": {},
   "outputs": [
    {
     "name": "stdout",
     "output_type": "stream",
     "text": [
      "(array([ 3,  6,  7, 11, 13]),)\n"
     ]
    }
   ],
   "source": [
    "# Search an array for a certain value and return indexes of the match\n",
    "\n",
    "'''\n",
    "where()  --> method to search an array\n",
    "\n",
    "'''\n",
    "\n",
    "arr = np.array([1,2,3,4,5,6,4,4,2,8,9,4,3,4])\n",
    "\n",
    "x = np.where(arr == 4)\n",
    "\n",
    "print(x)  # returns all indexes where 4 is present"
   ]
  },
  {
   "cell_type": "code",
   "execution_count": 13,
   "id": "49d544fc",
   "metadata": {},
   "outputs": [
    {
     "name": "stdout",
     "output_type": "stream",
     "text": [
      "(array([1, 3, 5, 7, 9]),)\n"
     ]
    }
   ],
   "source": [
    "# Find indexes where values are even\n",
    "\n",
    "arr = np.array([1,2,3,4,5,6,7,8,9,10])\n",
    "\n",
    "x = np.where(arr % 2 == 0)\n",
    "\n",
    "print(x) # returns indexes where value is even"
   ]
  },
  {
   "cell_type": "code",
   "execution_count": 14,
   "id": "bd8d5e76",
   "metadata": {},
   "outputs": [
    {
     "name": "stdout",
     "output_type": "stream",
     "text": [
      "(array([0, 2, 4, 6, 8]),)\n"
     ]
    }
   ],
   "source": [
    "# Find indexes where values are odd\n",
    "\n",
    "arr = np.array([1,2,3,4,5,6,7,8,9,10])\n",
    "\n",
    "x = np.where(arr % 2 == 1)\n",
    "\n",
    "print(x) # returns indexes where value is odd"
   ]
  },
  {
   "cell_type": "code",
   "execution_count": null,
   "id": "3c0cb5d1",
   "metadata": {},
   "outputs": [],
   "source": [
    "'''\n",
    "searchsorted() --> Assumed to be used on sorted array.\n",
    "Performs binary search and returns the index where specified value is assumed to be inserted.\n",
    "\n",
    "'''"
   ]
  },
  {
   "cell_type": "code",
   "execution_count": 15,
   "id": "10157371",
   "metadata": {},
   "outputs": [
    {
     "name": "stdout",
     "output_type": "stream",
     "text": [
      "1\n"
     ]
    }
   ],
   "source": [
    "arr = np.array([6, 7, 8, 9])\n",
    "\n",
    "x = np.searchsorted(arr, 7)\n",
    "\n",
    "print(x) # outputs index\n",
    "\n",
    "# The method starts the search from the left and returns the first index where the \n",
    "# number 7 is no longer larger than the next value."
   ]
  },
  {
   "cell_type": "code",
   "execution_count": 16,
   "id": "a666a1bc",
   "metadata": {},
   "outputs": [
    {
     "name": "stdout",
     "output_type": "stream",
     "text": [
      "2\n"
     ]
    }
   ],
   "source": [
    "# Search From the Right Side\n",
    "# By default the left most index is returned, but we can give side='right' to return the right most index instead.\n",
    "\n",
    "arr = np.array([6, 7, 8, 9])\n",
    "\n",
    "x = np.searchsorted(arr, 7, side='right')\n",
    "\n",
    "print(x) # index 2"
   ]
  },
  {
   "cell_type": "markdown",
   "id": "1f7363b9",
   "metadata": {},
   "source": [
    "# Searching multiple values"
   ]
  },
  {
   "cell_type": "code",
   "execution_count": 17,
   "id": "64d62fe4",
   "metadata": {},
   "outputs": [
    {
     "name": "stdout",
     "output_type": "stream",
     "text": [
      "[1 2 3]\n"
     ]
    }
   ],
   "source": [
    "arr = np.array([1, 3, 5, 7])\n",
    "\n",
    "x = np.searchsorted(arr, [2, 4, 6])\n",
    "\n",
    "print(x) # returns indexes"
   ]
  },
  {
   "cell_type": "markdown",
   "id": "cf57acc9",
   "metadata": {},
   "source": [
    "# NumPy Sorting Arrays"
   ]
  },
  {
   "cell_type": "code",
   "execution_count": null,
   "id": "c3fc5754",
   "metadata": {},
   "outputs": [],
   "source": [
    "# Sorting means putting elements in an ordered sequence.\n",
    "\n",
    "# Ordered sequence is any sequence that has an order corresponding to elements, \n",
    "# like numeric or alphabetical, ascending or descending.\n",
    "\n",
    "# The NumPy ndarray object has a function called sort(), that will sort a specified array.\n"
   ]
  },
  {
   "cell_type": "code",
   "execution_count": 19,
   "id": "849b7b67",
   "metadata": {},
   "outputs": [
    {
     "name": "stdout",
     "output_type": "stream",
     "text": [
      "[1 2 3 6 7]\n"
     ]
    }
   ],
   "source": [
    "arr = np.array([1,6,3,7,2])\n",
    "\n",
    "newarr = np.sort(arr)\n",
    "print(newarr)"
   ]
  },
  {
   "cell_type": "code",
   "execution_count": 20,
   "id": "996da2fd",
   "metadata": {},
   "outputs": [
    {
     "name": "stdout",
     "output_type": "stream",
     "text": [
      "['apple' 'banana' 'cherry']\n"
     ]
    }
   ],
   "source": [
    "#  sort array alphabetically\n",
    "\n",
    "arr = np.array(['banana', 'cherry', 'apple'])\n",
    "\n",
    "print(np.sort(arr))"
   ]
  },
  {
   "cell_type": "code",
   "execution_count": 21,
   "id": "b691ab0b",
   "metadata": {},
   "outputs": [
    {
     "name": "stdout",
     "output_type": "stream",
     "text": [
      "[False  True  True]\n"
     ]
    }
   ],
   "source": [
    "# Sort a boolean array:\n",
    "\n",
    "arr = np.array([True, False, True])\n",
    "\n",
    "print(np.sort(arr))"
   ]
  },
  {
   "cell_type": "code",
   "execution_count": 22,
   "id": "742b8ab0",
   "metadata": {},
   "outputs": [
    {
     "name": "stdout",
     "output_type": "stream",
     "text": [
      "[[2 3 4]\n",
      " [0 1 5]]\n"
     ]
    }
   ],
   "source": [
    "# Sorting a 2-D Array\n",
    "# If you use the sort() method on a 2-D array, both arrays will be sorted:\n",
    "\n",
    "arr = np.array([[3, 2, 4], [5, 0, 1]])\n",
    "\n",
    "print(np.sort(arr))"
   ]
  },
  {
   "cell_type": "markdown",
   "id": "ed8c37d1",
   "metadata": {},
   "source": [
    "# NumPy Array filter"
   ]
  },
  {
   "cell_type": "code",
   "execution_count": null,
   "id": "8e43d975",
   "metadata": {},
   "outputs": [],
   "source": [
    "# # Getting some elements out of an existing array and creating a new array out of them is called filtering.\n",
    "\n",
    "# In NumPy, you filter an array using a boolean index list.\n",
    "\n",
    "# A boolean index list is a list of booleans corresponding to indexes in the array.\n",
    "\n",
    "'''If the value at an index is True that element is contained in the filtered array, \n",
    "if the value at that index is False that element is excluded from the filtered array.'''"
   ]
  },
  {
   "cell_type": "code",
   "execution_count": 23,
   "id": "bbcb8c4f",
   "metadata": {},
   "outputs": [
    {
     "name": "stdout",
     "output_type": "stream",
     "text": [
      "[32 21]\n"
     ]
    }
   ],
   "source": [
    "arr = np.array([32,40,21,56,89])\n",
    "\n",
    "x = [True, False,True,False,False]\n",
    "\n",
    "newarr = arr[x]\n",
    "\n",
    "print(newarr)"
   ]
  },
  {
   "cell_type": "markdown",
   "id": "f573bfb9",
   "metadata": {},
   "source": [
    "### Creating the filter array"
   ]
  },
  {
   "cell_type": "code",
   "execution_count": 25,
   "id": "fe7e088e",
   "metadata": {},
   "outputs": [
    {
     "name": "stdout",
     "output_type": "stream",
     "text": [
      "[43 67 54 99 52 48]\n"
     ]
    }
   ],
   "source": [
    "#  In the example above we hard-coded the True and False values, \n",
    "# but the common use is to create a filter array based on conditions.\n",
    "\n",
    "arr = np.array([1,43,23,67,54,99,0,31,52,48])\n",
    "\n",
    "filter_arr = []\n",
    "\n",
    "for element in arr:\n",
    "    if element > 40:\n",
    "        filter_arr.append(True)\n",
    "    else:\n",
    "        filter_arr.append(False)\n",
    "\n",
    "newarr = arr[filter_arr]\n",
    "\n",
    "print(newarr)"
   ]
  },
  {
   "cell_type": "code",
   "execution_count": 29,
   "id": "c17a705e",
   "metadata": {},
   "outputs": [
    {
     "name": "stdout",
     "output_type": "stream",
     "text": [
      "[False, False, False, False, True, False, True, False, True, True]\n",
      "[54  0 52 48]\n"
     ]
    }
   ],
   "source": [
    "#  Create a filter array that will return only even elements from the original array:\n",
    "\n",
    "arr = np.array([1,43,23,67,54,99,0,31,52,48])\n",
    "\n",
    "filter_arr = []\n",
    "\n",
    "for element in arr:\n",
    "    if (element % 2 == 0):\n",
    "        filter_arr.append(True)    \n",
    "    else:\n",
    "        filter_arr.append(False)\n",
    "        \n",
    "newarr = arr[filter_arr]\n",
    "\n",
    "print(filter_arr)\n",
    "print(newarr)  \n"
   ]
  },
  {
   "cell_type": "code",
   "execution_count": 30,
   "id": "55167ad9",
   "metadata": {},
   "outputs": [
    {
     "name": "stdout",
     "output_type": "stream",
     "text": [
      "[False False  True  True]\n",
      "[43 44]\n"
     ]
    }
   ],
   "source": [
    "# Creating filter directly from array\n",
    "\n",
    "arr = np.array([41, 42, 43, 44])\n",
    "\n",
    "filter_arr = arr > 42\n",
    "\n",
    "newarr = arr[filter_arr]\n",
    "\n",
    "print(filter_arr)\n",
    "print(newarr)"
   ]
  },
  {
   "cell_type": "code",
   "execution_count": 31,
   "id": "62c95324",
   "metadata": {},
   "outputs": [
    {
     "name": "stdout",
     "output_type": "stream",
     "text": [
      "[False  True False  True False  True False  True]\n",
      "[2 4 6 8]\n"
     ]
    }
   ],
   "source": [
    "arr = np.array([1,2,3,4,5,6,7,8])\n",
    "\n",
    "filter_arr = (arr % 2 == 0)\n",
    "\n",
    "newarr = arr[filter_arr]\n",
    "\n",
    "print(filter_arr)\n",
    "print(newarr)"
   ]
  },
  {
   "cell_type": "code",
   "execution_count": null,
   "id": "d2f2d1d8",
   "metadata": {},
   "outputs": [],
   "source": []
  }
 ],
 "metadata": {
  "kernelspec": {
   "display_name": "Python 3 (ipykernel)",
   "language": "python",
   "name": "python3"
  },
  "language_info": {
   "codemirror_mode": {
    "name": "ipython",
    "version": 3
   },
   "file_extension": ".py",
   "mimetype": "text/x-python",
   "name": "python",
   "nbconvert_exporter": "python",
   "pygments_lexer": "ipython3",
   "version": "3.11.4"
  }
 },
 "nbformat": 4,
 "nbformat_minor": 5
}
